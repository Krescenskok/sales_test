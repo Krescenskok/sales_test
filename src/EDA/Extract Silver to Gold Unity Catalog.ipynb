{
 "cells": [
  {
   "cell_type": "code",
   "execution_count": 0,
   "metadata": {
    "application/vnd.databricks.v1+cell": {
     "cellMetadata": {
      "byteLimit": 2048000,
      "rowLimit": 10000
     },
     "inputWidgets": {},
     "nuid": "894a47c6-b71c-4268-8431-441f75af8ae4",
     "showTitle": false,
     "tableResultSettingsMap": {},
     "title": ""
    }
   },
   "outputs": [],
   "source": [
    "from pyspark.sql import SparkSession\n",
    "import pandas as pd\n",
    "from datetime import datetime"
   ]
  },
  {
   "cell_type": "code",
   "execution_count": 0,
   "metadata": {
    "application/vnd.databricks.v1+cell": {
     "cellMetadata": {
      "byteLimit": 2048000,
      "rowLimit": 10000
     },
     "inputWidgets": {},
     "nuid": "42177976-4542-4bb0-b225-2b9ada9971a1",
     "showTitle": false,
     "tableResultSettingsMap": {},
     "title": ""
    }
   },
   "outputs": [],
   "source": [
    "spark = SparkSession.builder.getOrCreate()"
   ]
  },
  {
   "cell_type": "markdown",
   "metadata": {
    "application/vnd.databricks.v1+cell": {
     "cellMetadata": {
      "byteLimit": 2048000,
      "rowLimit": 10000
     },
     "inputWidgets": {},
     "nuid": "0157de43-f603-4140-bb1a-3a965524fa66",
     "showTitle": false,
     "tableResultSettingsMap": {},
     "title": ""
    }
   },
   "source": [
    "# Sales by Customer\n",
    "- In order to view this data, the customer table needs to be joined with the orders table on customerid.\n",
    "- Then, the results need to be joined with the sales table on orderid\n",
    "- Lastly, it will be grouped by the customerid and name to get the sum of the sales per customer\n",
    "- The result of the query gets loaded into the gold layer in unity catalog"
   ]
  },
  {
   "cell_type": "code",
   "execution_count": 0,
   "metadata": {
    "application/vnd.databricks.v1+cell": {
     "cellMetadata": {
      "byteLimit": 2048000,
      "implicitDf": true,
      "rowLimit": 10000
     },
     "inputWidgets": {},
     "nuid": "6583f4e5-0efa-45de-b96d-3317d5c8f600",
     "showTitle": false,
     "tableResultSettingsMap": {
      "0": {
       "dataGridStateBlob": "{\"version\":1,\"tableState\":{\"columnPinning\":{\"left\":[\"#row_number#\"],\"right\":[]},\"columnSizing\":{},\"columnVisibility\":{}},\"settings\":{\"columns\":{}},\"syncTimestamp\":1759712625844}",
       "filterBlob": null,
       "queryPlanFiltersBlob": null,
       "tableResultIndex": 0
      }
     },
     "title": ""
    }
   },
   "outputs": [],
   "source": [
    "%sql\n",
    "create or replace table md_project.gold.customer_sales using delta as (\n",
    "  SELECT c.customerid \n",
    "  , c.name\n",
    "  , sum(s.quantity) as total_sales\n",
    "  FROM md_project.silver.customers c\n",
    "  left join md_project.silver.orders o\n",
    "  on c.customerid = o.customerid\n",
    "  left join md_project.silver.sales s\n",
    "  on s.orderid = o.orderid\n",
    "  group by c.customerid, c.name\n",
    ")"
   ]
  },
  {
   "cell_type": "markdown",
   "metadata": {
    "application/vnd.databricks.v1+cell": {
     "cellMetadata": {
      "byteLimit": 2048000,
      "rowLimit": 10000
     },
     "inputWidgets": {},
     "nuid": "b841095d-8b89-49e4-aed4-93119482d0ca",
     "showTitle": false,
     "tableResultSettingsMap": {},
     "title": ""
    }
   },
   "source": [
    "# Sales by Geo-location\n",
    "- In order to get the sales by country or region, the sales table needs to join with the orders table on order id\n",
    "- Then, orders table needs to join with the customers table on customerid\n",
    "- Lastly, the customers table needs to join with the countries table on country\n",
    "- The result of the query gets loaded into the gold layer in unity catalog"
   ]
  },
  {
   "cell_type": "code",
   "execution_count": 0,
   "metadata": {
    "application/vnd.databricks.v1+cell": {
     "cellMetadata": {
      "byteLimit": 2048000,
      "implicitDf": true,
      "rowLimit": 10000
     },
     "inputWidgets": {},
     "nuid": "ac3c1e0a-3b33-45d8-881a-fc3c0c1850fe",
     "showTitle": false,
     "tableResultSettingsMap": {
      "0": {
       "dataGridStateBlob": "{\"version\":1,\"tableState\":{\"columnPinning\":{\"left\":[\"#row_number#\"],\"right\":[]},\"columnSizing\":{},\"columnVisibility\":{}},\"settings\":{\"columns\":{}},\"syncTimestamp\":1759718759216}",
       "filterBlob": null,
       "queryPlanFiltersBlob": null,
       "tableResultIndex": 0
      }
     },
     "title": ""
    }
   },
   "outputs": [],
   "source": [
    "%sql\n",
    "create or replace table md_project.gold.location_sales using delta as (\n",
    "  Select s.orderid\n",
    "  , s.quantity \n",
    "  , c.country\n",
    "  , c2.region\n",
    "  , c2.name\n",
    "  from md_project.silver.sales s\n",
    "  left join md_project.silver.orders o\n",
    "  on s.orderid = o.orderid\n",
    "  left join md_project.silver.customers c\n",
    "  on c.customerid = o.customerid\n",
    "  left join md_project.silver.countries c2\n",
    "  on c.country = c2.country\n",
    ")\n"
   ]
  }
 ],
 "metadata": {
  "application/vnd.databricks.v1+notebook": {
   "computePreferences": null,
   "dashboards": [],
   "environmentMetadata": {
    "base_environment": "",
    "environment_version": "3"
   },
   "inputWidgetPreferences": null,
   "language": "python",
   "notebookMetadata": {
    "mostRecentlyExecutedCommandWithImplicitDF": {
     "commandId": 4903204943599715,
     "dataframes": [
      "_sqldf"
     ]
    },
    "pythonIndentUnit": 4
   },
   "notebookName": "Extract Silver to Gold Unity Catalog",
   "widgets": {}
  },
  "language_info": {
   "name": "python"
  }
 },
 "nbformat": 4,
 "nbformat_minor": 0
}
