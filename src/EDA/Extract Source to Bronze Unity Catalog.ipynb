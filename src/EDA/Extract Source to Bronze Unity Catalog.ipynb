{
 "cells": [
  {
   "cell_type": "code",
   "execution_count": 0,
   "metadata": {
    "application/vnd.databricks.v1+cell": {
     "cellMetadata": {
      "byteLimit": 2048000,
      "rowLimit": 10000
     },
     "inputWidgets": {},
     "nuid": "cf0356af-5677-4dbd-80f1-27751b03afed",
     "showTitle": false,
     "tableResultSettingsMap": {},
     "title": ""
    }
   },
   "outputs": [],
   "source": [
    "from pyspark.sql import SparkSession\n",
    "import pandas as pd\n",
    "import shutil\n",
    "import os\n"
   ]
  },
  {
   "cell_type": "code",
   "execution_count": 0,
   "metadata": {
    "application/vnd.databricks.v1+cell": {
     "cellMetadata": {
      "byteLimit": 2048000,
      "rowLimit": 10000
     },
     "inputWidgets": {},
     "nuid": "61b6f10f-a0aa-47b6-bd7f-c6a59f597f87",
     "showTitle": false,
     "tableResultSettingsMap": {},
     "title": ""
    }
   },
   "outputs": [],
   "source": [
    "parent_path = os.path.dirname(os.getcwd())\n",
    "data_path = os.path.dirname(parent_path) + '/data'\n",
    "print(data_path)\n",
    "\n",
    "files = os.listdir(data_path)\n",
    "print(\"Files in directory: \")\n",
    "print(files)"
   ]
  },
  {
   "cell_type": "code",
   "execution_count": 0,
   "metadata": {
    "application/vnd.databricks.v1+cell": {
     "cellMetadata": {
      "byteLimit": 2048000,
      "rowLimit": 10000
     },
     "inputWidgets": {},
     "nuid": "58802ca1-4e97-4638-90c1-14bbcb4b309e",
     "showTitle": false,
     "tableResultSettingsMap": {},
     "title": ""
    }
   },
   "outputs": [],
   "source": [
    "catalog_path = \"/Volumes/md_project/bronze/json_files/\"\n",
    "\n",
    "# Copy each file\n",
    "for filename in os.listdir(data_path):\n",
    "    if filename.endswith(\".json\"):\n",
    "        full_source_path = os.path.join(data_path, filename)\n",
    "        full_dest_path = os.path.join(catalog_path, filename)\n",
    "        print(\"Copying \" + filename + \" to \" + catalog_path)\n",
    "        shutil.copy(full_source_path, full_dest_path)\n",
    "\n"
   ]
  },
  {
   "cell_type": "code",
   "execution_count": 0,
   "metadata": {
    "application/vnd.databricks.v1+cell": {
     "cellMetadata": {},
     "inputWidgets": {},
     "nuid": "386f1b00-0f82-4fee-b327-08111d6e25b5",
     "showTitle": false,
     "tableResultSettingsMap": {},
     "title": ""
    }
   },
   "outputs": [],
   "source": []
  }
 ],
 "metadata": {
  "application/vnd.databricks.v1+notebook": {
   "computePreferences": null,
   "dashboards": [],
   "environmentMetadata": null,
   "inputWidgetPreferences": null,
   "language": "python",
   "notebookMetadata": {
    "mostRecentlyExecutedCommandWithImplicitDF": {
     "commandId": -1,
     "dataframes": [
      "_sqldf"
     ]
    },
    "pythonIndentUnit": 4
   },
   "notebookName": "Extract Source to Bronze Unity Catalog",
   "widgets": {}
  },
  "kernelspec": {
   "display_name": "venv_eda",
   "language": "python",
   "name": "python3"
  },
  "language_info": {
   "name": "python"
  }
 },
 "nbformat": 4,
 "nbformat_minor": 0
}
